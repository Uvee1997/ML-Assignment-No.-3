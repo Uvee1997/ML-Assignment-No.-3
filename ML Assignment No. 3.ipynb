{
 "cells": [
  {
   "cell_type": "markdown",
   "id": "b0c587cb",
   "metadata": {},
   "source": [
    "1) Explain the term machine learning, and how does it work? Explain two machine learning applications \n",
    "   in the business world. What are some of the ethical concerns that machine learning applications could raise?\n",
    "    \n",
    ":- ML is type of artificial intelligence(AI) that allows software applications to become more accurate at predicted            outcomes without being explicitly programmed to do so. As ML is one of the forms of AI it teaches computer to think in \n",
    "   similar way to how humans do.\n",
    "   Real time chatbot agents, Decision support, Customer recommendation engines are few business world examples.\n",
    "   Cost innovation, Lack of trust, Awakening of AI, Security problems are some of the ethical concerns"
   ]
  },
  {
   "cell_type": "markdown",
   "id": "fb753797",
   "metadata": {},
   "source": [
    "2) Describe the process of human learning:\n",
    "    i. Under the supervision of experts\n",
    "\n",
    "    ii. With the assistance of experts in an indirect manner\n",
    "\n",
    "    iii. Self-education\n",
    "    \n",
    "    \n",
    "    \n",
    ":- i) When human learning under supervision with experts in simple way we call it as supervised learning. In this type \n",
    "      concepts will be more clear as compaired to self learning. It can be more understandable. In supervised learning,           each example is a pair consisting of an input object and a desired output value. \n",
    "    \n",
    "   ii) Teaching assistants and instructors, we need to keep in mind that there is much more to learning than content and          that we should pay attention not only to the content but also to thinking processes and other types of learning.Also        skills, communication, right co-ordination with team,more focus on teamwork.\n",
    "   \n",
    "   iii) The act or process of educating oneself by one's own efforts especially through reading and informal study. To do           self learning more efficient always associate with educated people spcially the one who have better knowledage than         you, attain seminars, webinar etc.\n",
    "        "
   ]
  },
  {
   "cell_type": "markdown",
   "id": "1a759fbb",
   "metadata": {},
   "source": [
    "3) Provide a few examples of various types of machine learning.\n",
    "\n",
    ":- There are 3 types of ML- supervised machine learning, unsupervised machine learning, Reinforcement learning\n",
    "   Supervised ML - This task driven type of ML.Text classification problems is one of the best example of supervised \n",
    "                   learning. In this problem the goal is to predict the class label of a given piece of text\n",
    "   \n",
    "   Unspervised ML - Finding customer segments, Feature selection\n",
    "    \n",
    "   Reinforcement learning - Your cat is an agent that is exposed to the environment \n",
    "    "
   ]
  },
  {
   "cell_type": "markdown",
   "id": "484bb218",
   "metadata": {},
   "source": [
    "4) Examine the various forms of machine learning.\n",
    "\n",
    ":- Supervised machine learning \n",
    "   Unsupervised machine learning \n",
    "   Semi-supervised machine learning\n",
    "   Reinforcement learning"
   ]
  },
  {
   "cell_type": "markdown",
   "id": "8c34d966",
   "metadata": {},
   "source": [
    "5) Can you explain what a well-posed learning problem is? Explain the main characteristics that must be present to \n",
    "   identify a learning problem properly.\n",
    "    \n",
    ":- A (machine learning) problem is well-posed if a solution to it exists, if that solution is unique, and if that solution    depends on the data but it is not sensitive to changes in the data. E in context to some task T and some performance        measure P, if its performance on T, as was measured by P, upgrades with experience E.      "
   ]
  },
  {
   "cell_type": "markdown",
   "id": "1d099fff",
   "metadata": {},
   "source": [
    "6) Is machine learning capable of solving all problems? Give a detailed explanation of your answer.\n",
    "\n",
    ":- No, ML is not solution for all the problems. Sometimes it gives accurate result, but some times it not gives that much \n",
    "   of accurate result. As we known that ML is subset of AI, has revolutionalized the world as we know it in the \n",
    "   past decade. The information explosion has resulted in the collection of massive amounts of data, especially by large      companies such as Facebook and Google. \n",
    "   This amount of data, coupled with the rapid development of processor power and computer parallelization, has now made it    possible to obtain and study huge amounts of data with relative ease. Few times back ML is one of the solution for all      the problems but now after huge development in AI there some different modules are also there to overcome different        types problems.  "
   ]
  },
  {
   "cell_type": "markdown",
   "id": "6dba793b",
   "metadata": {},
   "source": [
    "7) What are the various methods and technologies for solving machine learning problems? Any two of them \n",
    "   should be defined in detail.\n",
    "    \n",
    ":- Supervised ML, Unsupervised ML & Reinforcement learning\n",
    "   There are two types of supervied ML, classification & Regression.\n",
    "   Regression - They help to predict or explain a particular numerical \n",
    "                value based on a set of prior data, for example predicting the price of a property based on previous                       pricing data for similar properties.\n",
    "   Clustering is one of the types of unsupervised ML.\n",
    "   In this learning modules their are different types of algorithms are present.\n",
    "   Simple Linear Regression in come under regression type. In the algorithm the equation of straight is y=m*x+b.\n",
    "   Line should be best fit & it has less error, that is our problem statement of simple linear regression.\n",
    "\n",
    "  "
   ]
  },
  {
   "cell_type": "markdown",
   "id": "39f35d79",
   "metadata": {},
   "source": [
    "8) Can you explain the various forms of supervised learning? Explain each one with an example application.\n",
    "\n",
    ":- Supervised ML is the type of ML in which machines are trained using \"labelled training data\" & on the basis of that \n",
    "   data it predicts output. This labelled data is for particular output. There two types such as classification &              regression.\n",
    "  \n",
    "    Regression - Regression algorithm are used if their is some relationship between input varibales & output variables.\n",
    "                 It is used for prediction of continous variables, such as weather forecasting, Market trends etc. There\n",
    "                 some of the regression algorithm in supervised learning\n",
    "                i) simple linear regression\n",
    "                ii) Regression trees\n",
    "                iii) Non-linear regression\n",
    "                iv) Bayesian regression\n",
    "                v) Polynomial regression\n",
    "                "
   ]
  },
  {
   "cell_type": "code",
   "execution_count": null,
   "id": "89e16069",
   "metadata": {},
   "outputs": [],
   "source": [
    "9) What is the difference between supervised and unsupervised learning? With a sample application in each region, \n",
    "   explain the differences.\n",
    "    \n",
    ":- Supervised learning algorithms are trained using labeled data. Unsupervised learning algorithms are trained using unlabeled data.\n",
    "   Supervised learning model takes direct feedback to check if it is predicting correct output or not.\n",
    "   Unsupervised learning model does not take any feedback.\n",
    "   Supervised learning model predicts the output. Unsupervised learning model finds the hidden patterns in data.\n",
    "   Supervised learning can be categorized in Classification and Regression problems.\n",
    "   Unsupervised Learning can be classified in Clustering and Associations problems.\n",
    "   Supervised learning model produces an accurate result.\n",
    "   Unsupervised learning model may give less accurate result as compared to supervised learning. "
   ]
  },
  {
   "cell_type": "code",
   "execution_count": null,
   "id": "e9fe74ae",
   "metadata": {},
   "outputs": [],
   "source": [
    "10) Describe the machine learning process in depth.\n",
    "\n",
    ":- Simple Linear regression - Line should be best fit & it has less error, that is our problem statement of simple linear regression\n",
    "                              In the algorithm the equation of straight is y=m*x+b. In this algorithm train dataset\n",
    "                              (sample dataset) given to model & then this model do the hypothesis. It is the relation between\n",
    "                              a dependent variable & single independent variable. The relationship shown by a Simple Linear Regression model is linear or \n",
    "                              a sloped straight line, hence it is called Simple Linear Regression."
   ]
  },
  {
   "cell_type": "code",
   "execution_count": null,
   "id": "9c340933",
   "metadata": {},
   "outputs": [],
   "source": [
    "11) Make a comparison between:-\n",
    "    \n",
    "    Regression and classification -\n",
    "    Regression and Classification algorithms are Supervised Learning algorithms. \n",
    "    Both the algorithms are used for prediction in Machine learning and work with the labeled datasets.\n",
    "    The main difference between Regression and Classification algorithms that Regression algorithms are used to predict the continuous values such as price, salary, age, etc. and Classification algorithms are used to predict/Classify \n",
    "    the discrete values such as Male or Female, True or False, Spam or Not Spam, etc.\n",
    "    The regression Algorithm can be further divided into Linear and Non-linear Regression.\n",
    "    The Classification algorithms can be divided into Binary Classifier and Multi-class Classifier.\n",
    "    Regression Algorithms are used with continuous data.\n",
    "    Classification Algorithms are used with discrete data."
   ]
  }
 ],
 "metadata": {
  "kernelspec": {
   "display_name": "Python 3 (ipykernel)",
   "language": "python",
   "name": "python3"
  },
  "language_info": {
   "codemirror_mode": {
    "name": "ipython",
    "version": 3
   },
   "file_extension": ".py",
   "mimetype": "text/x-python",
   "name": "python",
   "nbconvert_exporter": "python",
   "pygments_lexer": "ipython3",
   "version": "3.9.7"
  }
 },
 "nbformat": 4,
 "nbformat_minor": 5
}
